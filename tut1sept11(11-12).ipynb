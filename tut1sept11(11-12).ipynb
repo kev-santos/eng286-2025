{
 "cells": [
  {
   "cell_type": "markdown",
   "id": "32f6fe48",
   "metadata": {},
   "source": [
    "# Evaluating/Running Code\n",
    "\n",
    "Each of these cells takes an **input** in the form of code and produces an **output**.\n",
    "\n",
    "Think of your code as a **series of instructions**. When you **run** the code in a cell, the computer takes the instructions, **evaluates** them, and displays an **output**. Some *loose* synonyms for \"run\" and \"evaluate\" include **\"interpret\"** or **\"compile\"**. You can compile the code in a cell by clicking the \"⏵ Run\" icon above, or by hitting the keys Shift + Enter, Command + Enter, or Ctrl + Enter. \n",
    "\n",
    "Each cell interprets code differently, depending on whether you specify that the input is Markdown or Python code. You can specify which using the dropdown menu located in the bar above, next to the ⏩ icon. \n",
    "\n",
    "To modify the contents of a cell, **double click** the cell first. "
   ]
  },
  {
   "cell_type": "markdown",
   "id": "10671b6c",
   "metadata": {},
   "source": [
    "## Markdown Cells\n",
    "\n",
    "In a markdown cell, the input is a piece of text, along with instructions about how to display the text.\n",
    "\n",
    "For example, double asterisks `**like this**` tell the interpreter: *\"Display this bit of text in boldface.\"*"
   ]
  },
  {
   "cell_type": "markdown",
   "id": "56ebb48e-4181-4fbb-bbfb-a7ac203b7248",
   "metadata": {},
   "source": [
    "### Task 1\n",
    "\n",
    "Modify the text in the markdown cell below so that the word \"Sphinx\" displays in bold and \"judge\" displays in italics."
   ]
  },
  {
   "cell_type": "markdown",
   "id": "ef14d857-2217-4537-8d33-03b6ac182295",
   "metadata": {},
   "source": [
    "Sphinx of black quartz, judge my vow. "
   ]
  },
  {
   "cell_type": "markdown",
   "id": "c15a3d51-896e-448a-80e2-3bcd4587654c",
   "metadata": {},
   "source": [
    "### Task 2\n",
    "The below cell is a markdown cell. Change it into a Python code cell. How are the markdown cell and code cell different? "
   ]
  },
  {
   "cell_type": "markdown",
   "id": "776f954c-f2e6-44a1-a488-1d2004cfbfe4",
   "metadata": {},
   "source": [
    "if 3 > 2:\n",
    "    print(\"True!\")"
   ]
  },
  {
   "cell_type": "markdown",
   "id": "dcc778e8",
   "metadata": {},
   "source": [
    "## Python Cells \n",
    "\n",
    "In a python cell, the input is a piece of Python code. The interpreter looks at the Python code and follows the instructions, then displays the result. \n",
    "\n",
    "For example, the code `2+3` tells the Python interpreter: \"Add the numbers 2 and 3 together.\" "
   ]
  },
  {
   "cell_type": "code",
   "execution_count": null,
   "id": "d9358909",
   "metadata": {},
   "outputs": [],
   "source": [
    "2+3"
   ]
  },
  {
   "cell_type": "markdown",
   "id": "8b015f5d-6a27-4be5-98a2-fb7215466a18",
   "metadata": {},
   "source": [
    "**Protip:** Before running a Python cell, try to predict what the output will be. Then run it and compare the result with your expectation. Does it match? Try to understand why or why not. "
   ]
  },
  {
   "cell_type": "markdown",
   "id": "f1d720b7-4665-4586-9629-cf5ff1a40140",
   "metadata": {},
   "source": [
    "### Task 3\n",
    "\n",
    "Before running the code cells below, predict their output. Then run them and explain what happened."
   ]
  },
  {
   "cell_type": "code",
   "execution_count": null,
   "id": "d5cf7a0f-3175-4cae-926f-aa171555ca69",
   "metadata": {},
   "outputs": [],
   "source": [
    "2*3"
   ]
  },
  {
   "cell_type": "code",
   "execution_count": null,
   "id": "97732f7e-2b98-4270-88af-ee5490c87738",
   "metadata": {},
   "outputs": [],
   "source": [
    "2**3"
   ]
  },
  {
   "cell_type": "code",
   "execution_count": null,
   "id": "c9752c51-c4d5-4da6-bc82-10b1bbbeee3a",
   "metadata": {},
   "outputs": [],
   "source": [
    "5 / 0"
   ]
  },
  {
   "cell_type": "code",
   "execution_count": null,
   "id": "531c8fd9-1678-47c2-9f09-42e693d4c7cf",
   "metadata": {},
   "outputs": [],
   "source": [
    "\" \" + \"red\" + \" \""
   ]
  },
  {
   "cell_type": "code",
   "execution_count": null,
   "id": "0dcba9e0-f329-4f75-808f-8b4d3c73b4ad",
   "metadata": {},
   "outputs": [],
   "source": [
    "\"red\" + \"\""
   ]
  },
  {
   "cell_type": "markdown",
   "id": "7fe3ca33",
   "metadata": {},
   "source": [
    "# Word of Caution!\n",
    "\n",
    "Computers are smart because they're **good at following instructions**. They can only be as useful as the instructions you give to them. That's why it's your responsibility to ensure that the instructions you give them are correct, complete, and do what you intend them to do!"
   ]
  },
  {
   "cell_type": "markdown",
   "id": "a3f6e0c4",
   "metadata": {},
   "source": [
    "## Ordering Instructions\n",
    "\n",
    "### Task 4\n",
    "\n",
    "Before running the code cells below, predict their output. Then run them and explain what happened. What's the difference between `\"red\" + \"blue\" * 3` and `(\"red\" + \"blue\") * 3`?"
   ]
  },
  {
   "cell_type": "code",
   "execution_count": null,
   "id": "d1fd5393",
   "metadata": {},
   "outputs": [],
   "source": [
    "(2 + 3) * 5"
   ]
  },
  {
   "cell_type": "code",
   "execution_count": null,
   "id": "8e94f52d",
   "metadata": {},
   "outputs": [],
   "source": [
    "\"red\" + \"blue\" * 3"
   ]
  },
  {
   "cell_type": "code",
   "execution_count": null,
   "id": "cbe9c139",
   "metadata": {},
   "outputs": [],
   "source": [
    "(\"red\" + \"blue\") * 3"
   ]
  },
  {
   "cell_type": "markdown",
   "id": "3c2e4d10",
   "metadata": {},
   "source": [
    "## Syntactic and Semantic Errors\n",
    "\n",
    "A **syntax error** in English might be \"You the book me gave.\" Each word itself is correct, but the way they are combined is invalid. \n",
    "\n",
    "Python also has syntax. In programming, **syntax** is the set of rules that describe valid combinations of symbols. In Python, \n",
    "\n",
    "`2 * / 2` \n",
    "\n",
    "is a **syntax error**. \n",
    "\n",
    "You will learn more about proper Python syntax in the coming weeks. \n",
    "\n",
    "A **semantic error** in English might be \"Colorless green ideas sleep furiously.\" (This example is due to linguist Noam Chomsky.) The words are in the correct order, but the sentence appears to be meaningless.\\*\n",
    "\n",
    "In Python, \n",
    "\n",
    "`5 / 0`\n",
    "\n",
    "is a **semantic error**. Even though the combination of symbols is valid, they have no well-defined meaning. \n",
    "\n",
    "\\* As critical readers, we might still try to pick apart a sentence like this and interrogate its potential deeper meaning. However, a Python interpreter is not so charitable. It takes everything literally; it won't try to figure out what you might mean!"
   ]
  },
  {
   "cell_type": "code",
   "execution_count": null,
   "id": "7187ddd0",
   "metadata": {},
   "outputs": [],
   "source": [
    "2 * / 2"
   ]
  },
  {
   "cell_type": "code",
   "execution_count": null,
   "id": "090b7b1b",
   "metadata": {},
   "outputs": [],
   "source": [
    "5 / 0\n",
    "\n",
    "# Dividing by zero"
   ]
  },
  {
   "cell_type": "markdown",
   "id": "359bb018",
   "metadata": {},
   "source": [
    "# Dealing with Errors"
   ]
  },
  {
   "cell_type": "markdown",
   "id": "bb6f5a5e",
   "metadata": {},
   "source": [
    "- copy/paste the error message into google\n",
    "- review your code line-by-line, trace your steps \n",
    "- ask a friend, someone else in the class, your TA\n",
    "- comment out certain lines, then try running again"
   ]
  },
  {
   "cell_type": "markdown",
   "id": "d7db4afe-2bc1-4451-9443-7e9e99e01ed1",
   "metadata": {},
   "source": [
    "# Why shouldn't I just get an LLM to generate my code?"
   ]
  },
  {
   "cell_type": "markdown",
   "id": "7ac5ee58-a232-44f9-a08b-792f7ed974eb",
   "metadata": {},
   "source": [
    "When you're first starting out with programming, it's important to understand every step of the process. \n",
    "\n",
    "#### If you don't know the basics, you can't critically evaluate the output.\n",
    "An experienced programmer can look at the output of an LLM and tell whether it actually does what they want it to do. They will also know how to modify the code if it doesn't, or if they encounter an error. \n",
    "\n",
    "#### LLMs don't have the context of your problem.\n",
    "You might be working with specific files, texts, or variables that the LLM doesn't know about. It also doesn't know why you're asking it to do something, which may lead it to solve your problem in a way that doesn't apply to your situation. Being able to generalize a programming problem outside of your own specific parameters is a skill in itself. \n",
    "\n",
    "#### LLMs might do things in an unnecessarily hard way, or they can pull ideas from outside the scope of this course. "
   ]
  },
  {
   "cell_type": "markdown",
   "id": "01c1d33d-333d-4de1-9aa7-874346a47706",
   "metadata": {},
   "source": [
    "# Variables\n",
    "\n",
    "Variables consist of two pieces of information: a **name** and a **value**. "
   ]
  },
  {
   "cell_type": "code",
   "execution_count": null,
   "id": "5e861bd6-8793-48c0-9177-0ad02d0a451c",
   "metadata": {},
   "outputs": [],
   "source": [
    "number = 5"
   ]
  },
  {
   "cell_type": "markdown",
   "id": "8961e193-76c1-4737-b8c9-94898e71a341",
   "metadata": {},
   "source": [
    "In the above code, we **assign** the value 5 to a variable whose **name** is `number`. This is called an **assignment statement**. Note that an assignment statement does not produce any output. \n",
    "\n",
    "<img src=\"images/variable.jpeg\" width=350>"
   ]
  },
  {
   "cell_type": "markdown",
   "id": "10c80c76-1540-4dce-86f3-eec0edf68bd1",
   "metadata": {},
   "source": [
    "In an assignment statement, Python **evaluates** the expression to the right of the `=` before assigning it."
   ]
  },
  {
   "cell_type": "code",
   "execution_count": null,
   "id": "c289aa9a-32c2-4105-a8d2-e6d6366f0ed3",
   "metadata": {},
   "outputs": [],
   "source": [
    "number2 = 10 + 10"
   ]
  },
  {
   "cell_type": "markdown",
   "id": "5b57a0e9-fed6-4d5b-a2f0-6c3eacf18735",
   "metadata": {},
   "source": [
    "To check the contents of a given variable, we can use the function `print` or just type the variable name."
   ]
  },
  {
   "cell_type": "code",
   "execution_count": null,
   "id": "b88138c4-eff5-413a-b0a1-35246b5f6c9a",
   "metadata": {
    "scrolled": true
   },
   "outputs": [],
   "source": [
    "print(number2)"
   ]
  },
  {
   "cell_type": "code",
   "execution_count": null,
   "id": "5b344aa4-adf9-466d-8a50-28b961788b7c",
   "metadata": {},
   "outputs": [],
   "source": [
    "number2"
   ]
  },
  {
   "cell_type": "markdown",
   "id": "e008e0ca-7766-4dda-bc0e-8e416452cfda",
   "metadata": {},
   "source": [
    "**Why do we use variables?** Variables are useful if you want to use or modify the same value over and over again. Variables also help make your code more **readable**."
   ]
  },
  {
   "cell_type": "markdown",
   "id": "0a434dfe-c759-44bb-8d5a-ae80d5734f9a",
   "metadata": {},
   "source": [
    "## Word of Caution! Re-assigning Variables\n",
    "\n",
    "Python does not give an error if you try to assign a new value to a variable with an existing name. Make sure you don't accidentally reuse or reassign existing variables!"
   ]
  },
  {
   "cell_type": "code",
   "execution_count": null,
   "id": "494af388-74d3-45a3-9f8a-e6cf5a79aea5",
   "metadata": {},
   "outputs": [],
   "source": [
    "gpa = 4.0"
   ]
  },
  {
   "cell_type": "code",
   "execution_count": null,
   "id": "bcdc32e1-5930-4dc6-a251-16242a9560dc",
   "metadata": {},
   "outputs": [],
   "source": [
    "gpa = 3.7"
   ]
  },
  {
   "cell_type": "code",
   "execution_count": null,
   "id": "90f3ec15-10a8-47f6-b66d-d98a8427f493",
   "metadata": {},
   "outputs": [],
   "source": [
    "print(gpa)"
   ]
  },
  {
   "cell_type": "markdown",
   "id": "f7540d29-3c56-4364-b610-b10956419004",
   "metadata": {},
   "source": [
    "## Word of Caution! Spell Variable Names Correctly\n",
    "\n",
    "Variable names are **case-sensitive.**\n"
   ]
  },
  {
   "cell_type": "code",
   "execution_count": null,
   "id": "cac71c20-5aec-4e7f-b717-c098df5a2f37",
   "metadata": {},
   "outputs": [],
   "source": [
    "gpa = 4.0\n",
    "print(GPA)"
   ]
  },
  {
   "cell_type": "markdown",
   "id": "1639cfa5-e75b-47cd-99b7-d671e78cfe22",
   "metadata": {},
   "source": [
    "The above is a very common error (one I personally run into a lot) that can result from a simple typo. "
   ]
  },
  {
   "cell_type": "code",
   "execution_count": null,
   "id": "b8797ca4-9dfb-4bf5-be3c-31f9ba68a886",
   "metadata": {},
   "outputs": [],
   "source": [
    "number = 42\n",
    "print(Number)"
   ]
  },
  {
   "cell_type": "markdown",
   "id": "7a7f8eb7-ea5d-404f-8c1d-4d634f7ec513",
   "metadata": {},
   "source": [
    "## Naming Variables\n",
    "Python variables are usually written in \"`snake_case`\" or \"`pothole_case`\", i.e. in **all lowercase with underscores separating words**. You should try to make sure your variable names are **descriptive**, so that you can easily keep track of them. `number` isn't generally a good variable name, but `average_words` might be. "
   ]
  },
  {
   "cell_type": "markdown",
   "id": "3057b509-593d-4db9-b3d9-9a5fdc185525",
   "metadata": {},
   "source": [
    "### Task 5\n",
    "\n",
    "Predict the output of the following code cells, then run the cell. Try to understand the error in the code and how it relates to the error message, then correct the code."
   ]
  },
  {
   "cell_type": "code",
   "execution_count": null,
   "id": "ebfbcfbc-66c8-454d-818d-d39b677014fe",
   "metadata": {},
   "outputs": [],
   "source": [
    "num = 23\n",
    "print num"
   ]
  },
  {
   "cell_type": "code",
   "execution_count": null,
   "id": "e5319b67-9cdc-492a-810d-3b0983397a38",
   "metadata": {},
   "outputs": [],
   "source": [
    "num = 23\n",
    "prnit(num)"
   ]
  },
  {
   "cell_type": "code",
   "execution_count": null,
   "id": "5d9db367-bfd1-4c68-bd38-75694191b24f",
   "metadata": {},
   "outputs": [],
   "source": [
    "num = 23\n",
    "Print(num)"
   ]
  },
  {
   "cell_type": "code",
   "execution_count": null,
   "id": "e5282815-0452-4410-b6ce-2a3e2e84d726",
   "metadata": {},
   "outputs": [],
   "source": [
    "num = 23\n",
    "print(nm)"
   ]
  },
  {
   "cell_type": "markdown",
   "id": "9e4e8f00-2ee6-4e1e-b2a2-5d190aa413fa",
   "metadata": {},
   "source": [
    "## Example/Exercise: Area of a Rectangle\n",
    "\n",
    "<img src=\"images/area.jpeg\" width=600>\n",
    "\n",
    "Predict what the code will print, then run the cell and explain what happened. "
   ]
  },
  {
   "cell_type": "code",
   "execution_count": null,
   "id": "71ec9c65-dcd0-465a-ad04-2f515583e94e",
   "metadata": {},
   "outputs": [],
   "source": [
    "length = 2\n",
    "width = 3\n",
    "area = length * width\n",
    "\n",
    "length = 4\n",
    "\n",
    "print(area)\n",
    "\n",
    "\"\"\"\n",
    "What happens if I add the following lines of code to the end?\n",
    "\n",
    "area = length * width\n",
    "\n",
    "print(area)\n",
    "\n",
    "\"\"\"\n",
    "\n"
   ]
  },
  {
   "cell_type": "markdown",
   "id": "10163476-fab3-4ff6-93f2-80adc60a4717",
   "metadata": {},
   "source": [
    "# Types\n",
    "The main data types we will deal with include \n",
    "- integers `int` (whole numbers)\n",
    "    - e.g. `0`, `2`, `365`\n",
    "- floats `float` (decimals)\n",
    "    - e.g. `3.141`, `2.718`, `3.0`\n",
    "- strings `str` (pieces of text)\n",
    "    - e.g. `\"I don't know\"`, `\"Hello world\"`\n",
    "- booleans `bool` (`True` or `False` values) \n",
    "\n",
    "(I like learning the etymologies of words so I can remember them better!)\n",
    "- \"Integer\" has the same root as \"entire\" or \"integrity\", signifying wholeness.\n",
    "- \"Float\" is short for \"floating point number\", which is how decimal numbers are implemented by computers. The \"floating point\" is the decimal point, which can be placed anywhere.\n",
    "- A \"string\" is literally a string of characters.\n",
    "- \"Booleans\" are named after George Boole, who was a pioneer in a field of math/comp sci known as logic. "
   ]
  },
  {
   "cell_type": "markdown",
   "id": "26ccab0b-a36f-4deb-9593-14a3f2206ddb",
   "metadata": {},
   "source": [
    "# Functions\n",
    "\n",
    "You can think of functions as transitive verbs that take an object (as an input) and act on it (to produce an output).\n",
    "\n",
    "A function takes an **argument** as an input and produces an output. The syntax is `function(argument)`. \n",
    "\n",
    "<img src=\"images/function_machine.png\" width=\"300\">\n",
    "\n",
    "Pro-tip: Python evaluates the arguments before applying the function. \n",
    "\n",
    "<small> \"The use of the term \"argument\" in this sense developed from astronomy, which historically used tables to determine the spatial positions of planets from their positions in the sky (ephemerides). These tables were organized according to measured angles called arguments, literally \"that which elucidates something else.\"\" —Wikipedia, \"Argument of a function\"</small>"
   ]
  },
  {
   "cell_type": "markdown",
   "id": "391cf410-1179-4f3c-a06e-00d04505a2bf",
   "metadata": {},
   "source": [
    "### Task 6\n",
    "\n",
    "Predict the output of each code cell, then run it. What does each function do?"
   ]
  },
  {
   "cell_type": "code",
   "execution_count": null,
   "id": "5eace921-c960-4856-a0ab-68e6e2200722",
   "metadata": {},
   "outputs": [],
   "source": [
    "type(80)"
   ]
  },
  {
   "cell_type": "code",
   "execution_count": null,
   "id": "0a04cb4f-b08f-4b13-a6b8-1240bdbd2061",
   "metadata": {},
   "outputs": [],
   "source": [
    "max(2, 3, 4, 5)"
   ]
  },
  {
   "cell_type": "code",
   "execution_count": null,
   "id": "bf737542-e97d-4c7e-9af1-c9ff8fa0f2fa",
   "metadata": {},
   "outputs": [],
   "source": [
    "num1 = 10\n",
    "num2 = 5\n",
    "num3 = 2\n",
    "\n",
    "max(num1 + num2, num2 + num3, num1 + num3)"
   ]
  },
  {
   "cell_type": "code",
   "execution_count": null,
   "id": "02573015-dfb9-45b2-84a3-ed25f16456fa",
   "metadata": {},
   "outputs": [],
   "source": [
    "str(80)"
   ]
  },
  {
   "cell_type": "markdown",
   "id": "c0ca9132-54b6-46f7-9a00-0386364865ac",
   "metadata": {},
   "source": [
    "### Task 7\n",
    "\n",
    "You can even define your own functions! Predict the output of each code cell, then run it. Note that defining a function and running the cell does not produce any output, but it does allow you to use that function in other cells. "
   ]
  },
  {
   "cell_type": "code",
   "execution_count": null,
   "id": "1bd092c0-4862-4f40-804e-bc68d033be4d",
   "metadata": {},
   "outputs": [],
   "source": [
    "def double(input):\n",
    "    \"\"\" Takes the input and multiplies it by 2; outputs the result. \"\"\"\n",
    "    return input * 2 "
   ]
  },
  {
   "cell_type": "code",
   "execution_count": null,
   "id": "c2d2dd2c-f6d7-48bd-9d73-ccaea3a9be50",
   "metadata": {
    "scrolled": true
   },
   "outputs": [],
   "source": [
    "double(5)"
   ]
  },
  {
   "cell_type": "code",
   "execution_count": null,
   "id": "c5e4d5a5-754f-44eb-8d94-81ebab758094",
   "metadata": {},
   "outputs": [],
   "source": [
    "double(\"thing\")"
   ]
  },
  {
   "cell_type": "code",
   "execution_count": null,
   "id": "97f9d6ee-1554-4c89-accc-f5c2da4c2434",
   "metadata": {},
   "outputs": [],
   "source": [
    "def addtwo(input):\n",
    "    \"\"\" Write down what this function does in this space. \"\"\"\n",
    "    return input + 2"
   ]
  },
  {
   "cell_type": "code",
   "execution_count": null,
   "id": "b451176f-09ee-4e04-82c9-8fa268159a7f",
   "metadata": {},
   "outputs": [],
   "source": [
    "addtwo(5)"
   ]
  },
  {
   "cell_type": "code",
   "execution_count": null,
   "id": "cb718b65-868b-44d3-b2b2-0018f213ce2c",
   "metadata": {
    "scrolled": true
   },
   "outputs": [],
   "source": [
    "addtwo(\"thing\")"
   ]
  }
 ],
 "metadata": {
  "kernelspec": {
   "display_name": "Python 3 (ipykernel)",
   "language": "python",
   "name": "python3"
  },
  "language_info": {
   "codemirror_mode": {
    "name": "ipython",
    "version": 3
   },
   "file_extension": ".py",
   "mimetype": "text/x-python",
   "name": "python",
   "nbconvert_exporter": "python",
   "pygments_lexer": "ipython3",
   "version": "3.12.11"
  }
 },
 "nbformat": 4,
 "nbformat_minor": 5
}
