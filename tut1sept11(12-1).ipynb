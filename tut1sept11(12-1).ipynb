{
 "cells": [
  {
   "cell_type": "markdown",
   "id": "32f6fe48",
   "metadata": {},
   "source": [
    "# Evaluating/Running Code\n",
    "\n",
    "Each of these cells takes an **input** in the form of code and produces an **output**.\n",
    "\n",
    "Think of your code as a **series of instructions**. When you **run** the code in a cell, the computer takes the instructions, **evaluates** them, and displays an **output**. Some *loose* synonyms for \"run\" and \"evaluate\" include **\"interpret\"** or **\"compile\"**. You can compile the code in a cell by clicking the \"⏵ Run\" icon above, or by hitting the keys Shift + Enter, Command + Enter, or Ctrl + Enter. \n",
    "\n",
    "Each cell interprets code differently, depending on whether you specify that the input is Markdown or Python code. You can specify which using the dropdown menu located in the bar above, next to the ⏩ icon. "
   ]
  },
  {
   "cell_type": "markdown",
   "id": "10671b6c",
   "metadata": {},
   "source": [
    "## Markdown Cells\n",
    "\n",
    "In a markdown cell, the input is a piece of text, along with instructions about how to display the text.\n",
    "\n",
    "For example, double asterisks `**like this**` tell the interpreter: \"Display this bit of text in boldface.\""
   ]
  },
  {
   "cell_type": "markdown",
   "id": "63b7d043",
   "metadata": {},
   "source": [
    "**bold** *italic*"
   ]
  },
  {
   "cell_type": "markdown",
   "id": "dcc778e8",
   "metadata": {},
   "source": [
    "## Python Cells \n",
    "\n",
    "In a python cell, the input is a piece of Python code. The interpreter looks at the Python code and follows the instructions, then displays the result. \n",
    "\n",
    "For example, the code `2+3` tells the Python interpreter: \"Add the numbers 2 and 3 together.\" "
   ]
  },
  {
   "cell_type": "code",
   "execution_count": 1,
   "id": "d9358909",
   "metadata": {},
   "outputs": [
    {
     "data": {
      "text/plain": [
       "5"
      ]
     },
     "execution_count": 1,
     "metadata": {},
     "output_type": "execute_result"
    }
   ],
   "source": [
    "2+3"
   ]
  },
  {
   "cell_type": "markdown",
   "id": "7fe3ca33",
   "metadata": {},
   "source": [
    "# Word of Caution!\n",
    "\n",
    "Computers are smart because they're **good at following instructions**. They can only be as useful as the instructions you give to them. That's why it's your responsibility to ensure that the instructions you give them are correct, complete, and do what you intend them to do!"
   ]
  },
  {
   "cell_type": "markdown",
   "id": "a3f6e0c4",
   "metadata": {},
   "source": [
    "## Ordering Instructions"
   ]
  },
  {
   "cell_type": "code",
   "execution_count": 3,
   "id": "d1fd5393",
   "metadata": {},
   "outputs": [
    {
     "data": {
      "text/plain": [
       "25"
      ]
     },
     "execution_count": 3,
     "metadata": {},
     "output_type": "execute_result"
    }
   ],
   "source": [
    "(2 + 3) * 5"
   ]
  },
  {
   "cell_type": "code",
   "execution_count": null,
   "id": "8e94f52d",
   "metadata": {},
   "outputs": [],
   "source": [
    "\"red\" + \"blue\" * 3"
   ]
  },
  {
   "cell_type": "code",
   "execution_count": null,
   "id": "cbe9c139",
   "metadata": {},
   "outputs": [],
   "source": [
    "(\"red\" + \"blue\") * 3"
   ]
  },
  {
   "cell_type": "markdown",
   "id": "3c2e4d10",
   "metadata": {},
   "source": [
    "## Syntactic and Semantic Errors\n",
    "\n",
    "A **syntax error** in English might be \"You the book me gave.\" Each word itself is correct, but the way they are combined is invalid. \n",
    "\n",
    "Python also has syntax. In programming, **syntax** is the set of rules that describe valid combinations of symbols. In Python, \n",
    "\n",
    "`2 * / 2` \n",
    "\n",
    "is a **syntax error**. \n",
    "\n",
    "You will learn more about proper Python syntax in the coming weeks. \n",
    "\n",
    "A **semantic error** in English might be \"Colorless green ideas sleep furiously.\" (This example is due to linguist Noam Chomsky.) The words are in the correct order, but the sentence appears to be meaningless.\\*\n",
    "\n",
    "In Python, \n",
    "\n",
    "`5 / 0`\n",
    "\n",
    "is a **semantic error**. Even though the combination of symbols is valid, they have no well-defined meaning. \n",
    "\n",
    "\\* As critical readers, we might still try to pick apart a sentence like this and interrogate its potential deeper meaning. However, a Python interpreter is not so charitable. It takes everything literally; it won't try to figure out what you might mean!"
   ]
  },
  {
   "cell_type": "code",
   "execution_count": 4,
   "id": "7187ddd0",
   "metadata": {},
   "outputs": [
    {
     "ename": "SyntaxError",
     "evalue": "invalid syntax (2507735139.py, line 1)",
     "output_type": "error",
     "traceback": [
      "\u001b[0;36m  Cell \u001b[0;32mIn[4], line 1\u001b[0;36m\u001b[0m\n\u001b[0;31m    2 * / 2\u001b[0m\n\u001b[0m        ^\u001b[0m\n\u001b[0;31mSyntaxError\u001b[0m\u001b[0;31m:\u001b[0m invalid syntax\n"
     ]
    }
   ],
   "source": [
    "2 * / 2"
   ]
  },
  {
   "cell_type": "code",
   "execution_count": 5,
   "id": "090b7b1b",
   "metadata": {},
   "outputs": [
    {
     "ename": "ZeroDivisionError",
     "evalue": "division by zero",
     "output_type": "error",
     "traceback": [
      "\u001b[0;31m---------------------------------------------------------------------------\u001b[0m",
      "\u001b[0;31mZeroDivisionError\u001b[0m                         Traceback (most recent call last)",
      "Cell \u001b[0;32mIn[5], line 1\u001b[0m\n\u001b[0;32m----> 1\u001b[0m \u001b[38;5;241;43m5\u001b[39;49m\u001b[43m \u001b[49m\u001b[38;5;241;43m/\u001b[39;49m\u001b[43m \u001b[49m\u001b[38;5;241;43m0\u001b[39;49m\n\u001b[1;32m      3\u001b[0m \u001b[38;5;66;03m# Dividing by zero\u001b[39;00m\n",
      "\u001b[0;31mZeroDivisionError\u001b[0m: division by zero"
     ]
    }
   ],
   "source": [
    "5 / 0\n",
    "\n",
    "# Dividing by zero"
   ]
  },
  {
   "cell_type": "markdown",
   "id": "359bb018",
   "metadata": {},
   "source": [
    "# Dealing with Errors"
   ]
  },
  {
   "cell_type": "markdown",
   "id": "bb6f5a5e",
   "metadata": {},
   "source": [
    "- review documentation \n",
    "- copy paste into google\n",
    "- review your code line-by-line, trace your steps \n",
    "- try a different approach \n",
    "- ask a friend, someone else in the class, your TA\n",
    "- comment out certain lines, then try running again"
   ]
  },
  {
   "cell_type": "markdown",
   "id": "d7db4afe-2bc1-4451-9443-7e9e99e01ed1",
   "metadata": {},
   "source": [
    "# Why can't I just get an LLM to generate my code?"
   ]
  },
  {
   "cell_type": "code",
   "execution_count": null,
   "id": "20be9751-38f1-4280-b657-d87c1edf9777",
   "metadata": {},
   "outputs": [],
   "source": []
  }
 ],
 "metadata": {
  "kernelspec": {
   "display_name": "Python 3 (ipykernel)",
   "language": "python",
   "name": "python3"
  },
  "language_info": {
   "codemirror_mode": {
    "name": "ipython",
    "version": 3
   },
   "file_extension": ".py",
   "mimetype": "text/x-python",
   "name": "python",
   "nbconvert_exporter": "python",
   "pygments_lexer": "ipython3",
   "version": "3.12.11"
  }
 },
 "nbformat": 4,
 "nbformat_minor": 5
}
